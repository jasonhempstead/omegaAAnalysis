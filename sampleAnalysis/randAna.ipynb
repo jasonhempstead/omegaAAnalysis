{
 "cells": [
  {
   "cell_type": "markdown",
   "metadata": {},
   "source": [
    "# Sample analysis"
   ]
  },
  {
   "cell_type": "code",
   "execution_count": null,
   "metadata": {},
   "outputs": [],
   "source": [
    "from BlindersPy3 import Blinders, FitType\n",
    "from precessionlib.util import *\n",
    "from precessionlib.fitmodels import *\n",
    "from precessionlib.analysis import *"
   ]
  },
  {
   "cell_type": "code",
   "execution_count": null,
   "metadata": {},
   "outputs": [],
   "source": [
    "import json \n",
    "with open('run2CHannahTest.json') as file:\n",
    "        config = json.load(file)\n",
    "\n",
    "config['include_y_osc'] = False\n",
    "\n",
    "# config['extended_fit_end'] = 200\n",
    "\n",
    "config['do_start_time_scans'] = False\n",
    "        \n",
    "print(config['file_name'])\n",
    "print(config['hist_name'])"
   ]
  },
  {
   "cell_type": "code",
   "execution_count": null,
   "metadata": {},
   "outputs": [],
   "source": [
    "master_3d = get_histogram(config['hist_name'], config['file_name'])\n",
    "calo_range = config['calo_range']\n",
    "master_3d.GetZaxis().SetRange(calo_range[0], calo_range[1])"
   ]
  },
  {
   "cell_type": "code",
   "execution_count": null,
   "metadata": {},
   "outputs": [],
   "source": [
    "r.gStyle.SetStatW(0.25)\n",
    "r.gStyle.SetStatH(0.4)"
   ]
  },
  {
   "cell_type": "markdown",
   "metadata": {},
   "source": [
    "## Start With the Basic All Calo T-Method Analysis"
   ]
  },
  {
   "cell_type": "code",
   "execution_count": null,
   "metadata": {},
   "outputs": [],
   "source": [
    "all_calo_2d = master_3d.Project3D('yx_all')"
   ]
  },
  {
   "cell_type": "code",
   "execution_count": null,
   "metadata": {},
   "outputs": [],
   "source": [
    "blinder = Blinders(FitType.Omega_a, config['blinding_phrase'])\n",
    "omega_a_ref = blinder.paramToFreq(0)\n",
    "\n",
    "five_param_tf1 = build_5_param_func(config)\n",
    "five_param_tf1.SetParameters(0, 64.4, 0.2, 0.2, 0, omega_a_ref)\n",
    "five_param_tf1.FixParameter(5, omega_a_ref)"
   ]
  },
  {
   "cell_type": "markdown",
   "metadata": {},
   "source": [
    "Sweep over energy threshold to find the optimal T-Method cut"
   ]
  },
  {
   "cell_type": "code",
   "execution_count": null,
   "metadata": {},
   "outputs": [],
   "source": [
    "optimal_thresh_bin, sweep_res = do_threshold_sweep(all_calo_2d, five_param_tf1, \n",
    "                                                   config['fit_start'], \n",
    "                                                   config['extended_fit_end'])\n",
    "if config['fix_thresh_bin']:\n",
    "        optimal_thresh_bin = config['thresh_bin']\n",
    "        print(f'forcing thresh bin to {optimal_thresh_bin}')"
   ]
  },
  {
   "cell_type": "code",
   "execution_count": null,
   "metadata": {},
   "outputs": [],
   "source": [
    "c, _ = plot_threshold_sweep(all_calo_2d, sweep_res, optimal_thresh_bin)"
   ]
  },
  {
   "cell_type": "code",
   "execution_count": null,
   "metadata": {},
   "outputs": [],
   "source": [
    "c.Draw()"
   ]
  },
  {
   "cell_type": "markdown",
   "metadata": {},
   "source": [
    "## Five-parameter fit"
   ]
  },
  {
   "cell_type": "code",
   "execution_count": null,
   "metadata": {},
   "outputs": [],
   "source": [
    "# fix thresh bin if configured to do so\n",
    "if config['fix_thresh_bin']:\n",
    "    optimal_thresh_bin = config['thresh_bin']"
   ]
  },
  {
   "cell_type": "code",
   "execution_count": null,
   "metadata": {},
   "outputs": [],
   "source": [
    "best_T_hist = all_calo_2d.ProjectionX('optimal T', optimal_thresh_bin, -1)"
   ]
  },
  {
   "cell_type": "code",
   "execution_count": null,
   "metadata": {},
   "outputs": [],
   "source": [
    "five_param_tf1.SetParameter(0,best_T_hist.GetBinContent(\n",
    "                                    best_T_hist.FindBin(30)) * 1.6)\n",
    "bin_width = best_T_hist.GetBinWidth(1)\n",
    "\n",
    "best_thresh = all_calo_2d.GetYaxis().GetBinCenter(optimal_thresh_bin)\n",
    "best_T_hist.SetTitle(\n",
    "        f'T-Method, all calos, {best_thresh/1000:.2f} GeV threshold; ' +\n",
    "        f'time [#mus]; N / {bin_width:.3f} #mus')"
   ]
  },
  {
   "cell_type": "code",
   "execution_count": null,
   "metadata": {},
   "outputs": [],
   "source": [
    "resids, fft, cbo_freq = fit_and_fft(\n",
    "        best_T_hist, five_param_tf1, 'fiveParamAllCalos',\n",
    "        config['fit_options'],\n",
    "        config['fit_start'], config['extended_fit_end'], True)"
   ]
  },
  {
   "cell_type": "code",
   "execution_count": null,
   "metadata": {},
   "outputs": [],
   "source": [
    "c, _ = plot_hist(best_T_hist)\n",
    "c.Draw()\n",
    "\n",
    "c2, _ = plot_fft(fft, cbo_freq)\n",
    "c2.Draw()"
   ]
  },
  {
   "cell_type": "code",
   "execution_count": null,
   "metadata": {},
   "outputs": [],
   "source": [
    "c, _ = make_wrapped_wiggle_plot(best_T_hist, five_param_tf1, '5-Parameter Fit', \n",
    "                               config['fit_start'], config['extended_fit_end'])\n",
    "r.gStyle.SetOptStat(0)\n",
    "r.gStyle.SetOptFit(0)\n",
    "c.Draw()"
   ]
  },
  {
   "cell_type": "code",
   "execution_count": null,
   "metadata": {},
   "outputs": [],
   "source": [
    "early_resids = build_residuals_hist(best_T_hist, five_param_tf1, use_errors=True,\n",
    "                                   name='5ParamErrorWeighted')\n",
    "\n",
    "\n",
    "c = r.TCanvas()\n",
    "c.Divide(1 ,2, 0, 0)\n",
    "r.gStyle.SetOptTitle(0)\n",
    "c.cd(1)\n",
    "resid_T_hist = best_T_hist.Clone()\n",
    "resid_T_hist.SetName('resid5ParamHist')\n",
    "resid_T_hist.Draw()\n",
    "resid_T_hist.GetXaxis().SetRangeUser(config['fit_start']-20, config['fit_start']+40)\n",
    "resid_T_hist.GetXaxis().SetLabelOffset(999)\n",
    "\n",
    "c.cd(2)\n",
    "early_resids.Draw()\n",
    "early_resids.SetTitle('5-Parameter Residuals; time [#mus]; pull')\n",
    "early_resids.GetYaxis().SetRangeUser(-10, 10)\n",
    "early_resids.GetXaxis().SetRangeUser(config['fit_start']-20, config['fit_start']+40)\n",
    "early_resids.Draw()\n",
    "line = r.TLine(config['fit_start'], -10, config['fit_start'], 10)\n",
    "line.Draw()\n",
    "line2 = r.TLine(config['fit_start']-20, 0, config['fit_start']+40, 0)\n",
    "line2.Draw()\n",
    "c.Draw()"
   ]
  },
  {
   "cell_type": "code",
   "execution_count": null,
   "metadata": {},
   "outputs": [],
   "source": [
    "r.gStyle.SetOptFit(1111)\n",
    "r.gStyle.SetOptTitle(1)"
   ]
  },
  {
   "cell_type": "markdown",
   "metadata": {},
   "source": [
    "### Include the CBO N-term"
   ]
  },
  {
   "cell_type": "code",
   "execution_count": null,
   "metadata": {},
   "outputs": [],
   "source": [
    "with_cbo_tf1 = build_CBO_only_func(five_param_tf1, cbo_freq, config)\n",
    "\n",
    "resids, fft = fit_and_fft(\n",
    "        best_T_hist, with_cbo_tf1, 'cboFitAllCalos',\n",
    "        config['fit_options'],\n",
    "        config['fit_start'], config['fit_end'])"
   ]
  },
  {
   "cell_type": "code",
   "execution_count": null,
   "metadata": {},
   "outputs": [],
   "source": [
    "c, _ = plot_hist(best_T_hist)\n",
    "c.Draw()\n",
    "\n",
    "c2, _ = plot_fft(fft, cbo_freq)\n",
    "c2.Draw()"
   ]
  },
  {
   "cell_type": "markdown",
   "metadata": {},
   "source": [
    "### Include the vertical waist "
   ]
  },
  {
   "cell_type": "code",
   "execution_count": null,
   "metadata": {},
   "outputs": [],
   "source": [
    "cbo_freq = with_cbo_tf1.GetParameter(9) / 2 / math.pi\n",
    "\n",
    "vw_tf1 = build_CBO_VW_func(with_cbo_tf1, cbo_freq, config)\n",
    "resids, fft = fit_and_fft(best_T_hist, vw_tf1, 'vwFitAllCalos',\n",
    "              config['fit_options'],\n",
    "              config['fit_start'], config['fit_end'])"
   ]
  },
  {
   "cell_type": "code",
   "execution_count": null,
   "metadata": {},
   "outputs": [],
   "source": [
    "c, _ = plot_hist(best_T_hist)\n",
    "c.Draw()\n",
    "\n",
    "c2, _ = plot_fft(fft, cbo_freq)\n",
    "c2.Draw()"
   ]
  },
  {
   "cell_type": "markdown",
   "metadata": {},
   "source": [
    "### Include the muon loss term"
   ]
  },
  {
   "cell_type": "code",
   "execution_count": null,
   "metadata": {},
   "outputs": [],
   "source": [
    "muon_hists = prepare_loss_hist(config, best_T_hist)\n",
    "\n",
    "c, _ = plot_loss_hists(*muon_hists[1:])\n",
    "c.Draw()"
   ]
  },
  {
   "cell_type": "code",
   "execution_count": null,
   "metadata": {},
   "outputs": [],
   "source": [
    "loss_tf1 = build_losses_func(vw_tf1, config)\n",
    "resids, fft = fit_and_fft(\n",
    "        best_T_hist, loss_tf1, 'lossFitAllCalos',\n",
    "        config['fit_options'],\n",
    "        config['fit_start'], config['extended_fit_end'])"
   ]
  },
  {
   "cell_type": "code",
   "execution_count": null,
   "metadata": {},
   "outputs": [],
   "source": [
    "c, _ = plot_hist(best_T_hist)\n",
    "c.Draw()\n",
    "\n",
    "c2, _ = plot_fft(fft, cbo_freq)\n",
    "c2.Draw()"
   ]
  },
  {
   "cell_type": "markdown",
   "metadata": {},
   "source": [
    "### Include full fit with changing CBO and CBO modulation of A, phi\n",
    "Also fit over extended range"
   ]
  },
  {
   "cell_type": "code",
   "execution_count": null,
   "metadata": {},
   "outputs": [],
   "source": [
    "full_fit_tf1 = build_full_fit_tf1(loss_tf1, config)\n",
    "\n",
    "resids, fft = fit_and_fft(\n",
    "        best_T_hist, full_fit_tf1, 'fullFitAllCalos',\n",
    "        config['fit_options'],\n",
    "        config['fit_start'], config['extended_fit_end'])"
   ]
  },
  {
   "cell_type": "code",
   "execution_count": null,
   "metadata": {},
   "outputs": [],
   "source": [
    "c, _ = plot_hist(best_T_hist)\n",
    "c.Draw()\n",
    "best_T_hist.GetYaxis().SetRangeUser(10, best_T_hist.GetMaximum())\n",
    "c2, _ = plot_fft(fft, cbo_freq)\n",
    "fft.Draw()\n",
    "c2.Draw()\n",
    "fft.SetTitle(';;')\n",
    "# fft.GetYaxis().SetLabelOffset(999)\n",
    "c2.Draw()"
   ]
  },
  {
   "cell_type": "code",
   "execution_count": null,
   "metadata": {},
   "outputs": [],
   "source": [
    "for par_num in range(15, 19):\n",
    "    print(f'[\\\"{full_fit_tf1.GetParName(par_num)}\\\", {full_fit_tf1.GetParameter(par_num)}]')"
   ]
  },
  {
   "cell_type": "markdown",
   "metadata": {},
   "source": [
    "### Redo fit with pu uncertainty factors if configured to do so"
   ]
  },
  {
   "cell_type": "code",
   "execution_count": null,
   "metadata": {},
   "outputs": [],
   "source": [
    "pu_unc_file = config.get('pu_uncertainty_file', None)\n",
    "\n",
    "if pu_unc_file is not None:\n",
    "    # load pileup uncertainty factors\n",
    "    factor_array = np.loadtxt(pu_unc_file, skiprows=1)\n",
    "    T_meth_unc_facs = factor_array[:, 1]\n",
    "    A_weight_unc_facs = factor_array[:, 2]\n",
    "else:\n",
    "    T_meth_unc_facs = []\n",
    "    A_weight_unc_facs = []"
   ]
  },
  {
   "cell_type": "code",
   "execution_count": null,
   "metadata": {},
   "outputs": [],
   "source": [
    "if len(T_meth_unc_facs):\n",
    "    if len(T_meth_unc_facs) != best_T_hist.GetNbinsX():\n",
    "            raise ValueError('Number of T-Method pileup uncertainty factors'\n",
    "                             ' does not match the number of bins'\n",
    "                             ' in the T-Method histogram!')\n",
    "    T_fac_hist = r.TH1D('TMethUncFacs', 'TMethUncFacs',\n",
    "                best_T_hist.GetNbinsX(),\n",
    "                best_T_hist.GetBinLowEdge(1), \n",
    "                best_T_hist.GetBinLowEdge(best_T_hist.GetNbinsX()+1))\n",
    "    \n",
    "    for i_bin in range(1, best_T_hist.GetNbinsX() + 1):\n",
    "            center = best_T_hist.GetBinCenter(i_bin)\n",
    "            new_err = np.sqrt(full_fit_tf1.Eval(center)) \\\n",
    "                * T_meth_unc_facs[i_bin - 1]\n",
    "\n",
    "            best_T_hist.SetBinError(i_bin, new_err)\n",
    "            T_fac_hist.SetBinContent(i_bin, T_meth_unc_facs[i_bin - 1])\n",
    "    c_fac = r.TCanvas()\n",
    "    T_fac_hist.Draw()\n",
    "    T_fac_hist.GetXaxis().SetRangeUser(30,100)\n",
    "    T_fac_hist.GetYaxis().SetRangeUser(1,1.01)\n",
    "    c_fac.Draw()\n",
    "    \n",
    "    before_r = full_fit_tf1.GetParameter(4)\n",
    "\n",
    "    c.cd()\n",
    "    resids, fft = fit_and_fft(\n",
    "        best_T_hist, full_fit_tf1, 'fullFitAllCalosUncFacs',\n",
    "        config['fit_options'],\n",
    "        config['fit_start'], config['extended_fit_end'])\n",
    "    \n",
    "    after_r = full_fit_tf1.GetParameter(4)\n",
    "    \n",
    "    c, _ = plot_hist(best_T_hist)\n",
    "    c.SetLogy(1)\n",
    "    c.Draw()\n",
    "    c2, _ = plot_fft(fft, cbo_freq)\n",
    "    c2.Draw()\n",
    "    \n",
    "    print(f'Before: {before_r}')\n",
    "    print(f'After: {after_r}')\n",
    "    print(f'Diff: {after_r - before_r}')"
   ]
  },
  {
   "cell_type": "markdown",
   "metadata": {},
   "source": [
    "Do a fit saving the covariance matrix so I can print out correllations with R"
   ]
  },
  {
   "cell_type": "code",
   "execution_count": null,
   "metadata": {},
   "outputs": [],
   "source": [
    "fr = best_T_hist.Fit(full_fit_tf1, 'EMqS', '', config['fit_start'], config['extended_fit_end'])"
   ]
  },
  {
   "cell_type": "code",
   "execution_count": null,
   "metadata": {},
   "outputs": [],
   "source": [
    "from IPython.display import display, Markdown, Latex"
   ]
  },
  {
   "cell_type": "code",
   "execution_count": null,
   "metadata": {},
   "outputs": [],
   "source": [
    "corr_mat = fr.GetCorrelationMatrix()\n",
    "for par_num in range(full_fit_tf1.GetNpar()):\n",
    "    if is_free_param(full_fit_tf1, par_num):\n",
    "        par_name = full_fit_tf1.GetParName(par_num).replace('#', '\\\\')\n",
    "        val = full_fit_tf1.GetParameter(par_num)\n",
    "        err = full_fit_tf1.GetParError(par_num)\n",
    "        corr =  corr_mat(4, par_num)\n",
    "        display(Latex(f'${par_name}$: {val} $\\pm$ {err}, R-corr {corr:.3f}'))"
   ]
  },
  {
   "cell_type": "markdown",
   "metadata": {},
   "source": [
    "### Make wrapped wiggle plot and residuals plot"
   ]
  },
  {
   "cell_type": "code",
   "execution_count": null,
   "metadata": {},
   "outputs": [],
   "source": [
    "c, _ = make_wrapped_wiggle_plot(best_T_hist, full_fit_tf1, 'T-Method', \n",
    "                               config['fit_start'], config['extended_fit_end'])\n",
    "r.gStyle.SetOptStat(0)\n",
    "r.gStyle.SetOptFit(0)\n",
    "c.Draw()"
   ]
  },
  {
   "cell_type": "code",
   "execution_count": null,
   "metadata": {},
   "outputs": [],
   "source": [
    "early_resids = build_residuals_hist(best_T_hist, full_fit_tf1, use_errors=True,\n",
    "                                   name='fullFitErrorWeighted')\n",
    "\n",
    "c = r.TCanvas()\n",
    "# c.Divide(1 ,2, 0, 0)\n",
    "c.Divide(1, 2)\n",
    "r.gStyle.SetOptTitle(0)\n",
    "c.cd(1)\n",
    "resid_T_hist = best_T_hist.Clone()\n",
    "resid_T_hist.SetName('residFullFit')\n",
    "resid_T_hist.Draw()\n",
    "resid_T_hist.GetXaxis().SetRangeUser(config['fit_start']-20, config['fit_start']+40)\n",
    "# resid_T_hist.GetXaxis().SetLabelSize(0.1)\n",
    "# resid_T_hist.GetXaxis().SetLabelOffset(999)\n",
    "resid_T_hist.GetXaxis().SetLabelSize(0.1)\n",
    "# resid_T_hist.GetYaxis().SetLabelOffset(999)\n",
    "resid_T_hist.GetXaxis().SetTitle('')\n",
    "resid_T_hist.GetYaxis().SetTitle('')\n",
    "resid_T_hist.GetYaxis().SetRangeUser(0, 7e6)\n",
    "resid_T_hist.GetYaxis().SetLabelSize(0.1)\n",
    "resid_T_hist.GetYaxis().SetNdivisions(5, 5, 0, True)\n",
    "\n",
    "c.cd(2)\n",
    "early_resids.Draw()\n",
    "early_resids.SetTitle('5-Parameter Residuals; time [#mus]; pull')\n",
    "early_resids.GetYaxis().SetRangeUser(-5, 15)\n",
    "early_resids.GetXaxis().SetRangeUser(config['fit_start']-20, config['fit_start']+40)\n",
    "early_resids.Draw()\n",
    "early_resids.GetXaxis().SetLabelSize(0.1)\n",
    "early_resids.GetXaxis().SetTitle('')\n",
    "early_resids.GetYaxis().SetTitle('')\n",
    "early_resids.GetYaxis().SetLabelSize(0.1)\n",
    "early_resids.GetYaxis().SetNdivisions(5, 5, 0, True)\n",
    "\n",
    "line = r.TLine(config['fit_start'], -5, config['fit_start'], 15)\n",
    "line.Draw()\n",
    "line2 = r.TLine(config['fit_start']-20, 0, config['fit_start']+40, 0)\n",
    "line2.Draw()\n",
    "c.Draw()"
   ]
  },
  {
   "cell_type": "code",
   "execution_count": null,
   "metadata": {},
   "outputs": [],
   "source": [
    "r.gStyle.SetOptFit(1111)\n",
    "r.gStyle.SetOptTitle(1)\n",
    "t_resid_hist = get_residuals_distribution(early_resids, 'T-Method', config)\n",
    "        \n",
    "c = r.TCanvas()\n",
    "t_resid_hist.Draw()\n",
    "c.Draw()"
   ]
  },
  {
   "cell_type": "markdown",
   "metadata": {},
   "source": [
    "## Plot the Absolute Loss Numbers"
   ]
  },
  {
   "cell_type": "code",
   "execution_count": null,
   "metadata": {},
   "outputs": [],
   "source": [
    "loss_from_zero, loss_from_start = make_loss_correction_hists(muon_hists[0], \n",
    "                                                             full_fit_tf1.GetParameter(14),\n",
    "                                                             config)"
   ]
  },
  {
   "cell_type": "code",
   "execution_count": null,
   "metadata": {},
   "outputs": [],
   "source": [
    "c = r.TCanvas()\n",
    "loss_from_zero.Draw('hist')\n",
    "c.Draw()"
   ]
  },
  {
   "cell_type": "code",
   "execution_count": null,
   "metadata": {},
   "outputs": [],
   "source": [
    "c = r.TCanvas()\n",
    "loss_from_start.Draw('hist')\n",
    "c.Draw()"
   ]
  },
  {
   "cell_type": "markdown",
   "metadata": {},
   "source": [
    "## T-Method stop time scan"
   ]
  },
  {
   "cell_type": "code",
   "execution_count": null,
   "metadata": {},
   "outputs": [],
   "source": [
    "r.gStyle.SetOptFit(1111)\n",
    "r.gStyle.SetOptTitle(1)"
   ]
  },
  {
   "cell_type": "code",
   "execution_count": null,
   "metadata": {},
   "outputs": [],
   "source": [
    "stop_time_fit = clone_full_fit_tf1(full_fit_tf1, 'start_time_fit')\n",
    "#fix a lot of parameters for the start time scan\n",
    "# for par_num in start_time_conf['params_to_fix']:\n",
    "for par_num in range(5, 27):\n",
    "    stop_time_fit.FixParameter(par_num, \n",
    "                                stop_time_fit.GetParameter(par_num))"
   ]
  },
  {
   "cell_type": "code",
   "execution_count": null,
   "metadata": {},
   "outputs": [],
   "source": [
    "%%time\n",
    "if config['do_start_time_scans']:\n",
    "    t_stop_chi2g, stop_scan_res = stop_time_scan(best_T_hist, stop_time_fit,\n",
    "                                  start=config['fit_start'],\n",
    "                                  end=config['extended_fit_end'],\n",
    "                                  step=2, n_pts=150,\n",
    "                                  fit_options=config['fit_options']+'E')"
   ]
  },
  {
   "cell_type": "code",
   "execution_count": null,
   "metadata": {},
   "outputs": [],
   "source": [
    "if config['do_start_time_scans']:\n",
    "    canvs = [r.TCanvas()]\n",
    "    t_stop_chi2g.Draw('ap')\n",
    "    canvs[-1].Draw()\n",
    "\n",
    "    for i, res in enumerate(stop_scan_res):\n",
    "        canvs.append(r.TCanvas())\n",
    "        res.Draw()\n",
    "        canvs[-1].Draw()"
   ]
  },
  {
   "cell_type": "markdown",
   "metadata": {},
   "source": [
    "## T-Method start time scan"
   ]
  },
  {
   "cell_type": "code",
   "execution_count": null,
   "metadata": {},
   "outputs": [],
   "source": [
    "start_time_fit = clone_full_fit_tf1(full_fit_tf1, 'start_time_fit')\n",
    "start_time_conf = config['start_time_scan']\n",
    "# fix a lot of parameters for the start time scan\n",
    "# for par_num in start_time_conf['params_to_fix']:\n",
    "for par_num in range(5, 27):\n",
    "    start_time_fit.FixParameter(par_num, \n",
    "                                start_time_fit.GetParameter(par_num))"
   ]
  },
  {
   "cell_type": "code",
   "execution_count": null,
   "metadata": {},
   "outputs": [],
   "source": [
    "%%time\n",
    "if config['do_start_time_scans']:\n",
    "    t_scan_chi2g, scan_res = start_time_scan(best_T_hist, start_time_fit,\n",
    "                              start=config['fit_start'],\n",
    "                              end=config['extended_fit_end'],\n",
    "                              step=start_time_conf['step'], n_pts=start_time_conf['n_pts'],\n",
    "                              fit_options=config['fit_options']+'E')"
   ]
  },
  {
   "cell_type": "code",
   "execution_count": null,
   "metadata": {},
   "outputs": [],
   "source": [
    "if config['do_start_time_scans']:\n",
    "    canvs = [r.TCanvas()]\n",
    "    t_scan_chi2g.Draw('ap')\n",
    "    canvs[-1].Draw()\n",
    "\n",
    "    for i, res in enumerate(scan_res):\n",
    "        canvs.append(r.TCanvas())\n",
    "        res.Draw()\n",
    "        canvs[-1].Draw()"
   ]
  },
  {
   "cell_type": "markdown",
   "metadata": {},
   "source": [
    "## T-Method Pileup Multiplier Scan\n",
    "Note that the optimal multipler for $\\chi^2$ depends on whether I include a loss parameter, which energy bin I look at, fit start time, etc. So, it appears it will be difficult to interpret it until all the gain corrections are implemented."
   ]
  },
  {
   "cell_type": "code",
   "execution_count": null,
   "metadata": {},
   "outputs": [],
   "source": [
    "uncorrected_3d = get_histogram(config['uncor_hist_name'], config['file_name'])\n",
    "uncorrected_3d.GetZaxis().SetRange(calo_range[0], calo_range[1])"
   ]
  },
  {
   "cell_type": "code",
   "execution_count": null,
   "metadata": {},
   "outputs": [],
   "source": [
    "uncorrected_2d = uncorrected_3d.Project3D('yx')\n",
    "uncorrected_T_hist = uncorrected_2d.ProjectionX('uncorrectedT', optimal_thresh_bin, -1)\n",
    "corrected_T_hist = best_T_hist"
   ]
  },
  {
   "cell_type": "markdown",
   "metadata": {},
   "source": [
    "Find some decent starting parameters"
   ]
  },
  {
   "cell_type": "code",
   "execution_count": null,
   "metadata": {},
   "outputs": [],
   "source": [
    "pu_scan_fit = clone_full_fit_tf1(full_fit_tf1, 'pu_scan_fit')\n",
    "pu_scan_fit.SetParLimits(6, 100, 400)"
   ]
  },
  {
   "cell_type": "code",
   "execution_count": null,
   "metadata": {},
   "outputs": [],
   "source": [
    "%%time\n",
    "scale_factors = [i/10 + 0.1 for i in range(15)]\n",
    "pu_scan_fits = T_meth_pu_mult_scan(all_calo_2d, uncorrected_2d, \n",
    "                          optimal_thresh_bin, pu_scan_fit,\n",
    "                          scale_factors, config)"
   ]
  },
  {
   "cell_type": "code",
   "execution_count": null,
   "metadata": {},
   "outputs": [],
   "source": [
    "chi2_g, par_gs = make_pu_scan_graphs(scale_factors, pu_scan_fits)"
   ]
  },
  {
   "cell_type": "code",
   "execution_count": null,
   "metadata": {},
   "outputs": [],
   "source": [
    "c1 = plot_pu_sweep_R(par_gs, 'T-Method')\n",
    "c1.Draw()\n",
    "c2 = plot_pu_sweep_chi2(chi2_g, 'T-Method')\n",
    "c2.Draw()"
   ]
  },
  {
   "cell_type": "markdown",
   "metadata": {},
   "source": [
    "# Per calorimeter T-Method Sweep"
   ]
  },
  {
   "cell_type": "code",
   "execution_count": null,
   "metadata": {},
   "outputs": [],
   "source": [
    "per_calo_fit = clone_full_fit_tf1(full_fit_tf1, 'per_calo_fit')\n",
    "\n",
    "# free 2*omega_cbo params for per calo\n",
    "# for par_num in range(24, 27):\n",
    "#     per_calo_fit.ReleaseParameter(par_num)\n",
    "# per_calo_fit.SetParLimits(24, 30, 200)\n",
    "\n",
    "# limit the cbo lifetime params\n",
    "per_calo_fit.SetParLimits(6, 50, 400)\n",
    "\n",
    "# fix vw parameters for the single calo fit\n",
    "for par_num in [10, 13]:\n",
    "    per_calo_fit.FixParameter(par_num,\n",
    "                              per_calo_fit.GetParameter(par_num))"
   ]
  },
  {
   "cell_type": "markdown",
   "metadata": {},
   "source": [
    "Do the sweep, it takes about five minutes"
   ]
  },
  {
   "cell_type": "code",
   "execution_count": null,
   "metadata": {},
   "outputs": [],
   "source": [
    "%%time\n",
    "calo_sweep_res = T_method_calo_sweep(\n",
    "        master_3d, per_calo_fit, \n",
    "        optimal_thresh_bin, config)"
   ]
  },
  {
   "cell_type": "markdown",
   "metadata": {},
   "source": [
    "Plot calo sweep results"
   ]
  },
  {
   "cell_type": "code",
   "execution_count": null,
   "metadata": {},
   "outputs": [],
   "source": [
    "chi2_g, par_gs = make_calo_sweep_graphs(calo_sweep_res)"
   ]
  },
  {
   "cell_type": "code",
   "execution_count": null,
   "metadata": {},
   "outputs": [],
   "source": [
    "r.gStyle.SetOptFit(0)\n",
    "r.gStyle.SetOptFit(1111)\n",
    "r.gStyle.SetStatH(0.15)\n",
    "\n",
    "canvs = []\n",
    "lns = []\n",
    "\n",
    "chi2_g.SetName('calo_chi2_g')\n",
    "chi2_g.SetTitle(';calo num; #chi^{2}/ndf')\n",
    "\n",
    "\n",
    "for hist, fit, _, fft in calo_sweep_res:\n",
    "\n",
    "    cbo_freq = fit.GetParameter(9) / 2 / math.pi\n",
    "    \n",
    "    c, _ = plot_hist(hist)\n",
    "    canvs.append(c)\n",
    "    r.gStyle.SetOptFit(0)\n",
    "    r.gStyle.SetOptFit(1111)\n",
    "    canvs[-1].Draw()\n",
    "\n",
    "    c, new_lns = plot_fft(fft, cbo_freq)\n",
    "    canvs.append(c)\n",
    "    lns.extend(new_lns)\n",
    "    canvs[-1].Draw()"
   ]
  },
  {
   "cell_type": "code",
   "execution_count": null,
   "metadata": {},
   "outputs": [],
   "source": [
    "c = r.TCanvas()\n",
    "chi2_g.Draw('ap')\n",
    "chi2_g.GetXaxis().SetLimits(0, 25)\n",
    "ln = r.TLine(0, 1, 25, 1)\n",
    "ln.SetLineWidth(2)\n",
    "ln.SetLineStyle(2)\n",
    "ln.Draw()\n",
    "c.Draw()"
   ]
  },
  {
   "cell_type": "code",
   "execution_count": null,
   "metadata": {},
   "outputs": [],
   "source": [
    "canvs = []\n",
    "for par_num in par_gs:\n",
    "    canvs.append(r.TCanvas())\n",
    "    g = par_gs[par_num]\n",
    "    g.GetXaxis().SetTitle('calo num')\n",
    "\n",
    "    g.Draw('ap')\n",
    "\n",
    "    par_name = g.GetYaxis().GetTitle()\n",
    "    par_name = strip_par_name(par_name)\n",
    "\n",
    "    if par_name == 'R' or par_name=='tau':\n",
    "        g.Fit('pol0')\n",
    "    \n",
    "    g.GetXaxis().SetLimits(0, 25)\n",
    "\n",
    "    canvs[-1].Draw()"
   ]
  },
  {
   "cell_type": "markdown",
   "metadata": {},
   "source": [
    "# All Calo Energy-Binned Analysis"
   ]
  },
  {
   "cell_type": "code",
   "execution_count": null,
   "metadata": {},
   "outputs": [],
   "source": [
    "e_binned_fit = clone_full_fit_tf1(full_fit_tf1, 'e_binned_fit')\n",
    "\n",
    "# fix a number of parameters for the energy binned fits\n",
    "for par_num in [6, 9, 10, 13] + list(range(19, 27)):\n",
    "    e_binned_fit.FixParameter(par_num, e_binned_fit.GetParameter(par_num))\n",
    "\n",
    "# for par_num in range(15,19):\n",
    "#     e_binned_fit.FixParameter(par_num, 0)"
   ]
  },
  {
   "cell_type": "markdown",
   "metadata": {},
   "source": [
    "Do the energy sweep. Again, this takes a few minutes."
   ]
  },
  {
   "cell_type": "code",
   "execution_count": null,
   "metadata": {},
   "outputs": [],
   "source": [
    "%%time\n",
    "e_sweep_res = energy_sweep(\n",
    "    master_3d, e_binned_fit, config)"
   ]
  },
  {
   "cell_type": "code",
   "execution_count": null,
   "metadata": {},
   "outputs": [],
   "source": [
    "chi2_g, par_gs = make_E_sweep_graphs(e_sweep_res)"
   ]
  },
  {
   "cell_type": "code",
   "execution_count": null,
   "metadata": {},
   "outputs": [],
   "source": [
    "r.gStyle.SetOptFit(0)\n",
    "r.gStyle.SetOptFit(1111)\n",
    "r.gStyle.SetStatH(0.15)\n",
    "\n",
    "chi2_g.SetName('energy_chi2_g')\n",
    "chi2_g.SetTitle(';energy [MeV]; #chi^{2}/ndf')\n",
    "\n",
    "canvs = []\n",
    "lns = []\n",
    "\n",
    "for pt_num, (hist, (low_e, high_e), fit, _, fft) in \\\n",
    "        enumerate(e_sweep_res):\n",
    "\n",
    "    energy = 0.5 * (low_e + high_e)\n",
    "\n",
    "    c, _ = plot_hist(hist)\n",
    "    r.gStyle.SetStatH(0.15)\n",
    "    canvs.append(c)\n",
    "    canvs[-1].Draw()\n",
    "\n",
    "    cbo_freq = fit.GetParameter(9) / 2 / math.pi\n",
    "    c, new_lns = plot_fft(fft, cbo_freq)\n",
    "    canvs.append(c)\n",
    "    lns.extend(new_lns)\n",
    "    canvs[-1].Draw()"
   ]
  },
  {
   "cell_type": "code",
   "execution_count": null,
   "metadata": {},
   "outputs": [],
   "source": [
    "c = r.TCanvas()\n",
    "chi2_g.Draw('ap')\n",
    "c.Draw()"
   ]
  },
  {
   "cell_type": "code",
   "execution_count": null,
   "metadata": {},
   "outputs": [],
   "source": [
    "canvs = []\n",
    "for par_num in par_gs:\n",
    "    canvs.append(r.TCanvas())\n",
    "    g = par_gs[par_num]\n",
    "    g.GetXaxis().SetTitle('energy [MeV]')\n",
    "\n",
    "    g.Draw('ap')\n",
    "\n",
    "    par_name = g.GetYaxis().GetTitle()\n",
    "    par_name = strip_par_name(par_name)\n",
    "\n",
    "    canvs[-1].Draw()\n",
    "\n",
    "# save graphs we'll need for the A-Weighted analysis\n",
    "a_vs_e = par_gs[2]\n",
    "phi_vs_e = par_gs[3]"
   ]
  },
  {
   "cell_type": "markdown",
   "metadata": {},
   "source": [
    "# A-Weighted Analysis"
   ]
  },
  {
   "cell_type": "markdown",
   "metadata": {},
   "source": [
    "First create a signed version of Asymmetry versus E"
   ]
  },
  {
   "cell_type": "code",
   "execution_count": null,
   "metadata": {},
   "outputs": [],
   "source": [
    "signed_a_vs_e, a_vs_e_spline = build_A_vs_E_spline(a_vs_e, phi_vs_e)"
   ]
  },
  {
   "cell_type": "code",
   "execution_count": null,
   "metadata": {},
   "outputs": [],
   "source": [
    "c, _ = plot_a_vs_e_curve(signed_a_vs_e, a_vs_e_spline)\n",
    "\n",
    "# c = r.TCanvas()\n",
    "# signed_a_vs_e.Draw('ap')\n",
    "# signed_a_vs_e.GetXaxis().SetLimits(0, 3000)\n",
    "# a_vs_e_spline.Draw('same')\n",
    "# ln = r.TLine(0, 0, 3000, 0)\n",
    "# ln.SetLineStyle(2)\n",
    "# ln.Draw()\n",
    "c.Draw()"
   ]
  },
  {
   "cell_type": "markdown",
   "metadata": {},
   "source": [
    "Now build the A-Weighted histogram"
   ]
  },
  {
   "cell_type": "code",
   "execution_count": null,
   "metadata": {},
   "outputs": [],
   "source": [
    "a_weight_hist = build_a_weight_hist(all_calo_2d, a_vs_e_spline, 'a_weight_hist')"
   ]
  },
  {
   "cell_type": "code",
   "execution_count": null,
   "metadata": {},
   "outputs": [],
   "source": [
    "a_weight_fit = clone_full_fit_tf1(full_fit_tf1, 'a_weight_fit')\n",
    "\n",
    "# a_weight_fit.FixParameter(13, a_weight_fit.GetParameter(13))\n",
    "\n",
    "a_weight_fit.SetParameter(0,\n",
    "                          a_weight_hist.GetBinContent(\n",
    "                              a_weight_hist.FindBin(30))*1.6)\n"
   ]
  },
  {
   "cell_type": "code",
   "execution_count": null,
   "metadata": {},
   "outputs": [],
   "source": [
    "%%time\n",
    "resids, fft = fit_and_fft(\n",
    "        a_weight_hist, a_weight_fit, 'fullFitAWeight',\n",
    "        config['fit_options'],\n",
    "        config['fit_start'], config['extended_fit_end'])"
   ]
  },
  {
   "cell_type": "code",
   "execution_count": null,
   "metadata": {},
   "outputs": [],
   "source": [
    "c, _ = plot_hist(a_weight_hist)\n",
    "a_weight_hist.GetYaxis().SetRangeUser(10, a_weight_hist.GetMaximum())\n",
    "\n",
    "c.Draw()\n",
    "\n",
    "c2, _ = plot_fft(fft, cbo_freq)\n",
    "c2.Draw()"
   ]
  },
  {
   "cell_type": "code",
   "execution_count": null,
   "metadata": {},
   "outputs": [],
   "source": [
    "if len(A_weight_unc_facs):\n",
    "    if len(A_weight_unc_facs) != a_weight_hist.GetNbinsX():\n",
    "            raise ValueError('Number of A-Weighted pileup uncertainty factors'\n",
    "                             ' does not match the number of bins'\n",
    "                             ' in the A-Weighted histogram!')\n",
    "    A_fac_hist = r.TH1D('AWeightUncFacs', 'AWeightUncFacs',\n",
    "            a_weight_hist.GetNbinsX(),\n",
    "            a_weight_hist.GetBinLowEdge(1), \n",
    "            a_weight_hist.GetBinLowEdge(a_weight_hist.GetNbinsX()+1))\n",
    "    \n",
    "    for i_bin in range(1, a_weight_hist.GetNbinsX() + 1):\n",
    "            new_err = a_weight_hist.GetBinError(i_bin) \\\n",
    "                * A_weight_unc_facs[i_bin - 1]\n",
    "\n",
    "            a_weight_hist.SetBinError(i_bin, new_err)\n",
    "    \n",
    "            A_fac_hist.SetBinContent(i_bin, A_weight_unc_facs[i_bin - 1])\n",
    "        \n",
    "    c_fac = r.TCanvas()\n",
    "    A_fac_hist.Draw()\n",
    "    A_fac_hist.GetXaxis().SetRangeUser(30,100)\n",
    "    A_fac_hist.GetYaxis().SetRangeUser(1,1.01)\n",
    "    c_fac.Draw()\n",
    "    \n",
    "    before_r = a_weight_fit.GetParameter(4)\n",
    "    \n",
    "    c.cd()\n",
    "    resids, fft = fit_and_fft(\n",
    "        a_weight_hist, a_weight_fit, 'fullFitAWeightUncFacs',\n",
    "        config['fit_options'],\n",
    "        config['fit_start'], config['extended_fit_end'])\n",
    "    \n",
    "    after_r = a_weight_fit.GetParameter(4)\n",
    "    \n",
    "    c, _ = plot_hist(a_weight_hist)\n",
    "    c.Draw()\n",
    "    c2, _ = plot_fft(fft, cbo_freq)\n",
    "    c2.Draw()\n",
    "    \n",
    "    print(f'Before: {before_r}')\n",
    "    print(f'After: {after_r}')\n",
    "    print(f'Diff: {after_r - before_r}')"
   ]
  },
  {
   "cell_type": "markdown",
   "metadata": {},
   "source": [
    "## A-weighted Correlations"
   ]
  },
  {
   "cell_type": "code",
   "execution_count": null,
   "metadata": {},
   "outputs": [],
   "source": [
    "%%time \n",
    "a_weight_fr = a_weight_hist.Fit(a_weight_fit, 'EMqS', '', config['fit_start'], config['extended_fit_end'])"
   ]
  },
  {
   "cell_type": "code",
   "execution_count": null,
   "metadata": {},
   "outputs": [],
   "source": [
    "a_corr_mat = a_weight_fr.GetCorrelationMatrix()\n",
    "for par_num in range(a_weight_fit.GetNpar()):\n",
    "    if is_free_param(a_weight_fit, par_num):\n",
    "        par_name = a_weight_fit.GetParName(par_num).replace('#', '\\\\')\n",
    "        val = a_weight_fit.GetParameter(par_num)\n",
    "        err = a_weight_fit.GetParError(par_num)\n",
    "        corr =  a_corr_mat(4, par_num)\n",
    "        display(Latex(f'${par_name}$: {val} $\\pm$ {err}, R-corr {corr:.3f}'))"
   ]
  },
  {
   "cell_type": "markdown",
   "metadata": {},
   "source": [
    "### A-Weighted Wrapped Plot and Residuals Hist"
   ]
  },
  {
   "cell_type": "code",
   "execution_count": null,
   "metadata": {},
   "outputs": [],
   "source": [
    "c, _ = make_wrapped_wiggle_plot(a_weight_hist, a_weight_fit, 'A-Weighted', \n",
    "                               config['fit_start'], config['extended_fit_end'])\n",
    "c.Draw()\n",
    "r.gStyle.SetOptFit(0)\n",
    "\n",
    "c.Print('aWeightWrapped.pdf')"
   ]
  },
  {
   "cell_type": "code",
   "execution_count": null,
   "metadata": {},
   "outputs": [],
   "source": [
    "early_resids = build_residuals_hist(a_weight_hist, a_weight_fit, use_errors=True,\n",
    "                                   name='AWeightedResidsErrorWeighted')\n",
    "\n",
    "r.gStyle.SetOptTitle(0)\n",
    "\n",
    "c = r.TCanvas()\n",
    "c.Divide(1,2,0,0)\n",
    "c.cd(1)\n",
    "resid_A_hist = a_weight_hist.Clone()\n",
    "resid_A_hist.SetName('residAHist')\n",
    "resid_A_hist.Draw()\n",
    "resid_A_hist.GetXaxis().SetRangeUser(config['fit_start']-20, config['fit_start']+40)\n",
    "\n",
    "c.cd(2)\n",
    "early_resids.Draw()\n",
    "early_resids.SetTitle('A-Weighted Residuals; time [#mus]; pull')\n",
    "early_resids.GetYaxis().SetRangeUser(-5, 5)\n",
    "early_resids.GetXaxis().SetRangeUser(config['fit_start']-20, config['fit_start']+40)\n",
    "early_resids.Draw()\n",
    "line = r.TLine(config['fit_start'], -5, config['fit_start'], 5)\n",
    "line2 = r.TLine(config['fit_start']-20, 0, config['fit_start']+40, 0)\n",
    "line.Draw()\n",
    "line2.Draw()\n",
    "c.Draw()"
   ]
  },
  {
   "cell_type": "code",
   "execution_count": null,
   "metadata": {},
   "outputs": [],
   "source": [
    "r.gStyle.SetOptTitle(1)\n",
    "r.gStyle.SetOptFit(1111)"
   ]
  },
  {
   "cell_type": "markdown",
   "metadata": {},
   "source": [
    "## A-Weighted Stop Time Scan"
   ]
  },
  {
   "cell_type": "code",
   "execution_count": null,
   "metadata": {},
   "outputs": [],
   "source": [
    "stop_time_fit = clone_full_fit_tf1(a_weight_fit, 'a_stop_time_fit')\n",
    "#fix a lot of parameters for the start time scan\n",
    "# for par_num in start_time_conf['params_to_fix']:\n",
    "for par_num in range(5, 27):\n",
    "    stop_time_fit.FixParameter(par_num, \n",
    "                                stop_time_fit.GetParameter(par_num))"
   ]
  },
  {
   "cell_type": "code",
   "execution_count": null,
   "metadata": {},
   "outputs": [],
   "source": [
    "%%time\n",
    "if config['do_start_time_scans']:\n",
    "    a_stop_chi2g, stop_scan_res = stop_time_scan(a_weight_hist, stop_time_fit,\n",
    "                                  start=config['fit_start'],\n",
    "                                  end=config['extended_fit_end'],\n",
    "                                  step=2, n_pts=150,\n",
    "                                  fit_options=config['fit_options']+'E')"
   ]
  },
  {
   "cell_type": "code",
   "execution_count": null,
   "metadata": {},
   "outputs": [],
   "source": [
    "if config['do_start_time_scans']:\n",
    "    canvs = [r.TCanvas()]\n",
    "    a_stop_chi2g.Draw('ap')\n",
    "    canvs[-1].Draw()\n",
    "\n",
    "    for i, res in enumerate(stop_scan_res):\n",
    "        canvs.append(r.TCanvas())\n",
    "        res.Draw()\n",
    "        canvs[-1].Draw()"
   ]
  },
  {
   "cell_type": "markdown",
   "metadata": {},
   "source": [
    "## A-Weighted Start Time Scan"
   ]
  },
  {
   "cell_type": "code",
   "execution_count": null,
   "metadata": {},
   "outputs": [],
   "source": [
    "a_start_time_fit = clone_full_fit_tf1(a_weight_fit, 'a_start_time_fit')\n",
    "# fix a lot of parameters for the start time scan\n",
    "# for par_num in start_time_conf['params_to_fix']:\n",
    "for par_num in range(5, 27):\n",
    "    a_start_time_fit.FixParameter(par_num, \n",
    "                                  a_start_time_fit.GetParameter(par_num))"
   ]
  },
  {
   "cell_type": "code",
   "execution_count": null,
   "metadata": {},
   "outputs": [],
   "source": [
    "%%time\n",
    "if config['do_start_time_scans']:\n",
    "    a_scan_chi2, scan_res = start_time_scan(a_weight_hist, a_start_time_fit,\n",
    "                              start=config['fit_start'],\n",
    "                              end=config['extended_fit_end'],\n",
    "                              step=start_time_conf['step'], n_pts=start_time_conf['n_pts'],\n",
    "                              fit_options=config['fit_options']+'E')"
   ]
  },
  {
   "cell_type": "code",
   "execution_count": null,
   "metadata": {},
   "outputs": [],
   "source": [
    "if config['do_start_time_scans']:\n",
    "    canvs = [r.TCanvas()]\n",
    "    a_scan_chi2.Draw('ap')\n",
    "    canvs[-1].Draw()\n",
    "\n",
    "    for i, res in enumerate(scan_res):\n",
    "        canvs.append(r.TCanvas())\n",
    "        res.Draw()\n",
    "        canvs[-1].Draw()"
   ]
  },
  {
   "cell_type": "markdown",
   "metadata": {},
   "source": [
    "## A-Weighted Pileup Multiplier Scan"
   ]
  },
  {
   "cell_type": "code",
   "execution_count": null,
   "metadata": {},
   "outputs": [],
   "source": [
    "a_pu_fit = clone_full_fit_tf1(a_weight_fit, 'a_pu_fit')"
   ]
  },
  {
   "cell_type": "code",
   "execution_count": null,
   "metadata": {},
   "outputs": [],
   "source": [
    "%%time\n",
    "scale_factors = [i/10 + 0.4 for i in range(10)]\n",
    "a_pu_scan_fits = A_weight_pu_mult_scan(all_calo_2d, uncorrected_2d, \n",
    "                          a_vs_e_spline, a_pu_fit,\n",
    "                          scale_factors, config)"
   ]
  },
  {
   "cell_type": "code",
   "execution_count": null,
   "metadata": {},
   "outputs": [],
   "source": [
    "a_chi2_g, a_par_gs = make_pu_scan_graphs(scale_factors, a_pu_scan_fits)"
   ]
  },
  {
   "cell_type": "code",
   "execution_count": null,
   "metadata": {},
   "outputs": [],
   "source": [
    "c1 = plot_pu_sweep_R(a_par_gs, 'A-Weighted')\n",
    "c1.Draw()\n",
    "c2 = plot_pu_sweep_chi2(a_chi2_g, 'A-Weighted')\n",
    "c2.Draw()"
   ]
  },
  {
   "cell_type": "markdown",
   "metadata": {},
   "source": [
    "### A weighted calo sweep"
   ]
  },
  {
   "cell_type": "code",
   "execution_count": null,
   "metadata": {},
   "outputs": [],
   "source": [
    "%%time\n",
    "per_calo_a_fit = clone_full_fit_tf1(a_weight_fit, 'per_calo_a_fit')\n",
    "\n",
    "# free 2*omega_cbo params for per calo\n",
    "# for par_num in range(24, 27):\n",
    "#     per_calo_a_fit.ReleaseParameter(par_num)\n",
    "\n",
    "# limit the cbo lifetime params\n",
    "per_calo_a_fit.SetParLimits(6, 50, 400)\n",
    "# per_calo_a_fit.SetParLimits(24, 30, 200)\n",
    "\n",
    "# fix vw parameters for the single calo fit\n",
    "for par_num in [10, 13]:\n",
    "    per_calo_a_fit.FixParameter(par_num,\n",
    "                                per_calo_a_fit.GetParameter(par_num))\n",
    "\n",
    "# T-method fits per calo\n",
    "calo_sweep_a_res = A_weighted_calo_sweep(\n",
    "    master_3d, per_calo_a_fit, a_vs_e_spline, config)\n",
    "calo_a_chi2_g, calo_sweep_a_par_gs = make_calo_sweep_graphs(\n",
    "    calo_sweep_a_res)"
   ]
  },
  {
   "cell_type": "code",
   "execution_count": null,
   "metadata": {},
   "outputs": [],
   "source": [
    "r.gStyle.SetOptFit(0)\n",
    "r.gStyle.SetOptFit(1111)\n",
    "r.gStyle.SetStatH(0.15)\n",
    "\n",
    "canvs = []\n",
    "lns = []\n",
    "\n",
    "calo_a_chi2_g.SetName('calo_chi2_g')\n",
    "calo_a_chi2_g.SetTitle(';calo num; #chi^{2}/ndf')\n",
    "\n",
    "for hist, fit, _, fft in calo_sweep_a_res:\n",
    "    \n",
    "    cbo_freq = fit.GetParameter(9) / 2 / math.pi\n",
    "    \n",
    "    c, _ = plot_hist(hist)\n",
    "    canvs.append(c)\n",
    "    r.gStyle.SetOptFit(0)\n",
    "    r.gStyle.SetOptFit(1111)\n",
    "    hist.GetYaxis().SetRangeUser(1, hist.GetMaximum()*1.5)\n",
    "    canvs[-1].Draw()\n",
    "\n",
    "    c, new_lns = plot_fft(fft, cbo_freq)\n",
    "    canvs.append(c)\n",
    "    lns.extend(new_lns)\n",
    "    canvs[-1].Draw()"
   ]
  },
  {
   "cell_type": "code",
   "execution_count": null,
   "metadata": {},
   "outputs": [],
   "source": [
    "c = r.TCanvas()\n",
    "calo_a_chi2_g.Draw('ap')\n",
    "calo_a_chi2_g.GetXaxis().SetLimits(0, 25)\n",
    "ln = r.TLine(0, 1, 25, 1)\n",
    "ln.SetLineWidth(2)\n",
    "ln.SetLineStyle(2)\n",
    "ln.Draw()\n",
    "c.Draw()"
   ]
  },
  {
   "cell_type": "code",
   "execution_count": null,
   "metadata": {
    "scrolled": false
   },
   "outputs": [],
   "source": [
    "canvs = []\n",
    "for par_num in calo_sweep_a_par_gs:\n",
    "    canvs.append(r.TCanvas())\n",
    "    g = calo_sweep_a_par_gs[par_num]\n",
    "    g.GetXaxis().SetTitle('calo num')\n",
    "\n",
    "    g.Draw('ap')\n",
    "\n",
    "    par_name = g.GetYaxis().GetTitle()\n",
    "    par_name = strip_par_name(par_name)\n",
    "\n",
    "    if par_name == 'R':\n",
    "        g.Fit('pol0')\n",
    "    \n",
    "    g.GetXaxis().SetLimits(0, 25)\n",
    "\n",
    "    canvs[-1].Draw()"
   ]
  }
 ],
 "metadata": {
  "kernelspec": {
   "display_name": "Python 3",
   "language": "python",
   "name": "python3"
  },
  "language_info": {
   "codemirror_mode": {
    "name": "ipython",
    "version": 3
   },
   "file_extension": ".py",
   "mimetype": "text/x-python",
   "name": "python",
   "nbconvert_exporter": "python",
   "pygments_lexer": "ipython3",
   "version": "3.7.6"
  }
 },
 "nbformat": 4,
 "nbformat_minor": 2
}
